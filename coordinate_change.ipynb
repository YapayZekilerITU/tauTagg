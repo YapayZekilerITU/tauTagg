{
 "cells": [
  {
   "cell_type": "code",
   "execution_count": null,
   "metadata": {},
   "outputs": [],
   "source": [
    "import os\n",
    "import vector\n",
    "import mplhep\n",
    "import numpy as np\n",
    "import pandas as pd\n",
    "import awkward as ak\n",
    "import boost_histogram as bh\n",
    "import matplotlib.pyplot as plt\n",
    "import matplotlib as mpl\n",
    "import mplhep\n",
    "import gc\n",
    "mplhep.style.use(\"CMS\")"
   ]
  },
  {
   "cell_type": "code",
   "execution_count": null,
   "metadata": {},
   "outputs": [],
   "source": [
    "qq_test = ak.from_parquet(r\"qq_train.parquet\")\n",
    "z_test = ak.from_parquet(r\"z_train.parquet\")\n",
    "zh_test = ak.from_parquet(r\"zh_train.parquet\")"
   ]
  },
  {
   "cell_type": "code",
   "execution_count": null,
   "metadata": {},
   "outputs": [],
   "source": [
    "# Create 4-vectors from the information in the .parquet file test and access information such as energy or pT:\n",
    "\n",
    "def to_p4(p4_obj):\n",
    "    return vector.awk(\n",
    "        ak.zip(\n",
    "            {\n",
    "                \"mass\": p4_obj.tau,\n",
    "                \"x\": p4_obj.x,\n",
    "                \"y\": p4_obj.y,\n",
    "                \"z\": p4_obj.z,\n",
    "            }\n",
    "        )\n",
    "    )\n",
    "def my_to_ptphietaenergy(p4_obj):\n",
    "    return vector.awk(\n",
    "        ak.zip(\n",
    "            {\n",
    "                \"pt\": p4_obj.pt,\n",
    "                \"phi\": p4_obj.phi,\n",
    "                \"eta\": p4_obj.rapidity,\n",
    "                \"E\": p4_obj.E\n",
    "            }\n",
    "        )\n",
    "    )\n",
    "\n",
    "def to_bh(test, bins, cumulative=False):\n",
    "    h1 = bh.Histogram(bh.axis.Variable(bins))\n",
    "    h1.fill(test)\n",
    "    if cumulative:\n",
    "        h1[:] = np.sum(h1.values()) - np.cumsum(h1)\n",
    "    return h1\n",
    "\n",
    "# ZH\n",
    "zh_gen_tau_p4s = to_p4(zh_test.gen_jet_tau_p4s)\n",
    "zh_reco_cand_p4s = to_p4(zh_test.reco_cand_p4s)\n",
    "zh_reco_jet_p4s = to_p4(zh_test.reco_jet_p4s)\n",
    "\n",
    "zh_test[\"4momentum\"] = my_to_ptphietaenergy(zh_reco_cand_p4s)\n",
    "# Z\n",
    "z_gen_tau_p4s = to_p4(z_test.gen_jet_tau_p4s)\n",
    "z_reco_cand_p4s = to_p4(z_test.reco_cand_p4s)\n",
    "z_reco_jet_p4s = to_p4(z_test.reco_jet_p4s)\n",
    "z_gen_tau_pt = z_gen_tau_p4s.pt\n",
    "z_test[\"4momentum\"] = my_to_ptphietaenergy(z_reco_cand_p4s)\n",
    "#qq\n",
    "qq_test_reco_cand_p4s = to_p4(qq_test[\"reco_cand_p4s\"])\n",
    "qq_test_reco_jet_p4s = to_p4(qq_test[\"reco_jet_p4s\"])\n",
    "qq_test[\"4momentum\"] = my_to_ptphietaenergy(qq_test_reco_jet_p4s)"
   ]
  },
  {
   "cell_type": "code",
   "execution_count": null,
   "metadata": {},
   "outputs": [],
   "source": [
    "ak.to_parquet(qq_test, \"my_qqcand_test.parquet\")\n",
    "ak.to_parquet(z_test, \"my_zcand_test.parquet\")\n",
    "ak.to_parquet(zh_test, \"my_zhcand_test.parquet\")"
   ]
  }
 ],
 "metadata": {
  "language_info": {
   "name": "python"
  }
 },
 "nbformat": 4,
 "nbformat_minor": 2
}
